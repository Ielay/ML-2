{
 "cells": [
  {
   "cell_type": "code",
   "execution_count": 1,
   "metadata": {},
   "outputs": [],
   "source": [
    "import numpy as np\n",
    "import pandas as pd\n",
    "from sklearn.preprocessing import OneHotEncoder\n",
    "from scipy.sparse import hstack, vstack\n",
    "from sklearn.utils import shuffle"
   ]
  },
  {
   "cell_type": "code",
   "execution_count": 2,
   "metadata": {},
   "outputs": [],
   "source": [
    "def get_data():\n",
    "    data_file_path = \"./netflix-prize-data/processed_data.csv\"\n",
    "\n",
    "    df = pd.read_csv(data_file_path, header = None, names = ['User_Id','Rating','Movie_Id'])\n",
    "    print(df.iloc[::5000000, :])\n",
    "    \n",
    "    encoder = OneHotEncoder(categories='auto') \n",
    "\n",
    "    # (number_of_ratings x number_of_users)\n",
    "    one_hot_user_matrix = encoder.fit_transform(np.asarray(df['User_Id']).reshape(-1,1)) \n",
    "    print(\"One-hot user matrix shape: \" + str(one_hot_user_matrix.shape))\n",
    "    \n",
    "    # (number_of_ratings x number_of_movie_ids)\n",
    "    one_hot_movie_matrix = encoder.fit_transform(np.asarray(df['Movie_Id']).reshape(-1,1))\n",
    "    print(\"One-hot movie matrix shape: \" + str(one_hot_movie_matrix.shape))\n",
    "    \n",
    "    # train data in CSR format\n",
    "    X = hstack([one_hot_user_matrix, one_hot_movie_matrix]).tocsr()\n",
    "    # data to predict\n",
    "    ratings=np.asarray(df['Rating']).reshape(-1,1)\n",
    "    \n",
    "    return X,ratings"
   ]
  },
  {
   "cell_type": "code",
   "execution_count": 3,
   "metadata": {},
   "outputs": [
    {
     "name": "stdout",
     "output_type": "stream",
     "text": [
      "           User_Id  Rating  Movie_Id\n",
      "0          1488844       3         1\n",
      "5000000     501954       2       996\n",
      "10000000    404654       5      1962\n",
      "15000000    886608       2      2876\n",
      "20000000   1193835       2      3825\n",
      "25000000   1899206       3      4661\n",
      "30000000    154804       4      5496\n",
      "35000000   2078749       5      6274\n",
      "40000000    450763       5      7057\n",
      "45000000    102092       3      7991\n",
      "50000000    220298       5      9023\n",
      "55000000    550530       5     10042\n",
      "60000000    222570       3     11038\n",
      "65000000   1273080       5     11875\n",
      "70000000   2026970       5     12676\n",
      "75000000    506044       4     13582\n",
      "80000000    353605       2     14453\n",
      "85000000    664606       3     15116\n",
      "90000000   2213715       3     16008\n",
      "95000000   1589401       5     16879\n",
      "100000000  2314006       4     17627\n",
      "One-hot user matrix shape: (100480507, 480189)\n",
      "One-hot movie matrix shape: (100480507, 17770)\n",
      "(100480507, 497959)\n",
      "(100480507, 1)\n"
     ]
    }
   ],
   "source": [
    "X,ratings = get_data()\n",
    "\n",
    "print(X.shape)\n",
    "print(ratings.shape)"
   ]
  },
  {
   "cell_type": "code",
   "execution_count": 4,
   "metadata": {},
   "outputs": [],
   "source": [
    "def predict_ratings(X, w, w0, V):\n",
    "    linear_part = w0 + X.dot(w)\n",
    "    \n",
    "    V_part =((X.dot(V))**2) - (X.power(2)).dot((V)**2) \n",
    "    sqr_part = (0.5 * np.sum(V_part, axis=1)).reshape(-1,1)\n",
    "    \n",
    "    return linear_part + sqr_part\n",
    "\n",
    "\n",
    "def mse(y, y_pred):\n",
    "    return np.sum((y - y_pred)**2)/len(y_pred)\n",
    "\n",
    "\n",
    "def rmse(y, y_pred):\n",
    "    return np.sqrt(mse(y, y_pred))\n",
    "\n",
    "\n",
    "def r2(y, y_pred):\n",
    "    nom=np.sum((y - y_pred)**2)\n",
    "    denom=np.sum((y - np.mean(y, axis=0))**2)\n",
    "    return 1 - nom/denom"
   ]
  },
  {
   "cell_type": "code",
   "execution_count": 5,
   "metadata": {},
   "outputs": [],
   "source": [
    "def mini_batch_grad_desc(X_train, Y_train, learning_rate=0.01, num_epoches=5, batch_size=1024, factors_numb=3):\n",
    "    w = np.full((X_train.shape[1], 1), 0.5)\n",
    "    w0 = 0.5\n",
    "    V = np.full((X_train.shape[1], factors_numb), 0.5)\n",
    "    \n",
    "    for e in range(num_epoches):\n",
    "        print(\"Epoch: \" + str(e+1) + \"/\" + str(num_epoches))\n",
    "        \n",
    "        X_train, Y_train = shuffle(X_train, Y_train)\n",
    "        minibatches_numb = X_train.shape[0] // batch_size\n",
    "        if (minibatches_numb * batch_size < X_train.shape[0]):\n",
    "            # batch with a smaller size\n",
    "            minibatches_numb += 1\n",
    "        \n",
    "        for i in range(minibatches_numb):\n",
    "            X_batch = X_train[i * batch_size : (i+1) * batch_size, :]\n",
    "            Y_batch = Y_train[i * batch_size : (i+1) * batch_size, :]\n",
    "            \n",
    "            actual_batch_size = X_batch.shape[0]\n",
    "            \n",
    "            ratings_prediction = predict_ratings(X_batch, w, w0, V)\n",
    "            error = Y_batch - ratings_prediction\n",
    "            \n",
    "            # upd model parameters\n",
    "            w = w + (learning_rate*2*((X_batch.T).dot(error)))/actual_batch_size\n",
    "            w0 = w0 + (learning_rate*2*(np.sum(error)))/actual_batch_size\n",
    "            V = V + (learning_rate*2*((X_batch.T).dot(np.multiply(error, X_batch.dot(V))) - np.multiply(V, (X_batch.T).power(2).dot(error))))/actual_batch_size\n",
    "        \n",
    "    return w, w0, V"
   ]
  },
  {
   "cell_type": "markdown",
   "metadata": {},
   "source": [
    "## Model training"
   ]
  },
  {
   "cell_type": "code",
   "execution_count": null,
   "metadata": {},
   "outputs": [
    {
     "name": "stdout",
     "output_type": "stream",
     "text": [
      "Fold: 1/5\n",
      "Epoch: 1/5\n",
      "Epoch: 2/5\n",
      "Epoch: 3/5\n",
      "Epoch: 4/5\n",
      "Epoch: 5/5\n",
      "Fold: 2/5\n",
      "Epoch: 1/5\n",
      "Epoch: 2/5\n",
      "Epoch: 3/5\n",
      "Epoch: 4/5\n",
      "Epoch: 5/5\n",
      "Fold: 3/5\n",
      "Epoch: 1/5\n",
      "Epoch: 2/5\n",
      "Epoch: 3/5\n",
      "Epoch: 4/5\n"
     ]
    }
   ],
   "source": [
    "folds_numb = 5\n",
    "fold_size = X.shape[0] // folds_numb\n",
    "\n",
    "rmse_train = []\n",
    "r2_train = []\n",
    "rmse_test = []\n",
    "r2_test = []\n",
    "\n",
    "# split data to folds for cross-validation purposes\n",
    "for fold_idx in range(folds_numb):\n",
    "    print(\"Fold: \" + str(fold_idx+1) + \"/\" + str(folds_numb))\n",
    "    \n",
    "    # prepare train data for fold i\n",
    "    X_train = vstack(\n",
    "        [\n",
    "            X[0 : fold_idx * fold_size, :],\n",
    "            X[(fold_idx+1) * fold_size : X.shape[0], :]\n",
    "        ],\n",
    "        'csr'\n",
    "    )\n",
    "    Y_train = np.vstack(\n",
    "        (\n",
    "            ratings[0 : fold_idx * fold_size],\n",
    "            ratings[(fold_idx+1) * fold_size : ratings.shape[0]]\n",
    "        )\n",
    "    )\n",
    "    \n",
    "    # train model\n",
    "    w, w0, V = mini_batch_grad_desc(X_train, Y_train)\n",
    "    \n",
    "    # save train metrics\n",
    "    train_prediction = predict_ratings(X_train, w, w0, V)\n",
    "    rmse_train.append(rmse(Y_train, train_prediction))\n",
    "    r2_train.append(r2(Y_train, train_prediction))\n",
    "    \n",
    "    # prepare test data for fold i\n",
    "    X_test = X[fold_idx * fold_size : (fold_idx+1) * fold_size, :]\n",
    "    Y_test = ratings[fold_idx * fold_size : (fold_idx+1) * fold_size]\n",
    "    \n",
    "    # save test metrics\n",
    "    test_prediction = predict_ratings(X_test, w, w0, V)\n",
    "    rmse_test.append(rmse(Y_test, test_prediction))\n",
    "    r2_test.append(r2(Y_test, test_prediction))"
   ]
  },
  {
   "cell_type": "markdown",
   "metadata": {},
   "source": [
    "## Metrics"
   ]
  },
  {
   "cell_type": "code",
   "execution_count": 12,
   "metadata": {},
   "outputs": [],
   "source": [
    "#TODO: print metrics (R2, RMSE)"
   ]
  },
  {
   "cell_type": "code",
   "execution_count": null,
   "metadata": {},
   "outputs": [],
   "source": []
  }
 ],
 "metadata": {
  "kernelspec": {
   "display_name": "Python 3",
   "language": "python",
   "name": "python3"
  },
  "language_info": {
   "codemirror_mode": {
    "name": "ipython",
    "version": 3
   },
   "file_extension": ".py",
   "mimetype": "text/x-python",
   "name": "python",
   "nbconvert_exporter": "python",
   "pygments_lexer": "ipython3",
   "version": "3.6.10"
  }
 },
 "nbformat": 4,
 "nbformat_minor": 4
}
